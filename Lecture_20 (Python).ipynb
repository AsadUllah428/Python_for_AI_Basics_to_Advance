{
 "cells": [
  {
   "cell_type": "markdown",
   "id": "65b6f661",
   "metadata": {},
   "source": [
    "# Lambda Functions in Python\n",
    "\n",
    "Lambda functions are anonymous functions defined using the `lambda` keyword in Python. They are typically used for short-lived operations.\n",
    "\n",
    "## 1. What is a Lambda Function?\n",
    "A lambda function is a function that does not have a name, and is generally used for short-term tasks. It is defined using the keyword `lambda`.\n",
    "\n",
    "### Syntax:\n",
    "```python\n",
    "lambda arguments: expression\n",
    "```\n",
    "\n",
    "## 2. Key Characteristics of Lambda Functions\n",
    "- **Anonymous**: Does not require a function name.\n",
    "- **Inline**: Used for quick operations or within higher-order functions.\n",
    "- **Single Expression**: Can only contain one expression.\n",
    "\n",
    "## 3. When to Use Lambda Functions?\n",
    "Use lambda functions when you need a quick, one-off function for small tasks or as arguments to functions like `map()`, `filter()`, or `sorted()`."
   ]
  },
  {
   "cell_type": "code",
   "execution_count": 8,
   "id": "bca72faf",
   "metadata": {},
   "outputs": [
    {
     "name": "stdout",
     "output_type": "stream",
     "text": [
      "5\n",
      "Hello, world!\n",
      "25\n"
     ]
    }
   ],
   "source": [
    "# Example 1: Basic Lambda Function\n",
    "lambda_add = lambda x, y: x + y\n",
    "print(lambda_add(2, 3))  # Output: 5\n",
    "\n",
    "# Example 2: Lambda Function with No Arguments\n",
    "no_arg = lambda: \"Hello, world!\"\n",
    "print(no_arg())  # Output: Hello, world!\n",
    "\n",
    "# Example 3: Lambda Function with One Argument\n",
    "square = lambda x: x * x\n",
    "print(square(5))  # Output: 25"
   ]
  },
  {
   "cell_type": "markdown",
   "id": "31caa953",
   "metadata": {},
   "source": [
    "# Advanced Lambda Function Usage\n",
    "\n",
    "Lambda functions are commonly used with built-in Python functions like `map()`, `filter()`, and `sorted()`. Here are some examples of how to use lambda functions with these higher-order functions:\n",
    "\n",
    "1. `map()`: Applies a function to every item in an input list\n",
    "2. `filter()`: Creates a list of elements for which a function returns True\n",
    "3. `sorted()`: Sorts elements based on a key function"
   ]
  },
  {
   "cell_type": "code",
   "execution_count": 9,
   "id": "d3c66871",
   "metadata": {},
   "outputs": [
    {
     "name": "stdout",
     "output_type": "stream",
     "text": [
      "map() example: [1, 4, 9, 16, 25]\n",
      "filter() example: [2, 4, 6]\n",
      "sorted() example: [(1, 'apple'), (3, 'banana'), (2, 'cherry')]\n"
     ]
    }
   ],
   "source": [
    "# Using Lambda with map()\n",
    "numbers = [1, 2, 3, 4, 5]\n",
    "squared_numbers = map(lambda x: x ** 2, numbers)\n",
    "print(\"map() example:\", list(squared_numbers))  # Output: [1, 4, 9, 16, 25]\n",
    "\n",
    "# Using Lambda with filter()\n",
    "numbers = [1, 2, 3, 4, 5, 6]\n",
    "even_numbers = filter(lambda x: x % 2 == 0, numbers)\n",
    "print(\"filter() example:\", list(even_numbers))  # Output: [2, 4, 6]\n",
    "\n",
    "# Using Lambda with sorted()\n",
    "pairs = [(1, 'apple'), (3, 'banana'), (2, 'cherry')]\n",
    "sorted_pairs = sorted(pairs, key=lambda x: x[1])\n",
    "print(\"sorted() example:\", sorted_pairs)  # Output: [(1, 'apple'), (3, 'banana'), (2, 'cherry')]"
   ]
  },
  {
   "cell_type": "markdown",
   "id": "69b5e52f",
   "metadata": {},
   "source": [
    "# Limitations of Lambda Functions\n",
    "\n",
    "While lambda functions are powerful and convenient, they do have some limitations:\n",
    "\n",
    "1. **Single Expression**: Lambda functions can only contain one expression.\n",
    "2. **Limited Debugging**: Since they don't have a name, they can be harder to debug.\n",
    "3. **Readability**: For complex operations, lambda functions might reduce code readability.\n",
    "\n",
    "It's recommended to use regular functions (defined with `def`) for more complex operations or when the function needs to be reused multiple times in your code."
   ]
  },
  {
   "cell_type": "markdown",
   "id": "bc4a3f28",
   "metadata": {},
   "source": [
    "# Practical Use Cases of Lambda Functions\n",
    "\n",
    "## 1. List Manipulation\n",
    "Lambda functions are particularly useful when working with lists and list comprehensions. They can help you transform data in a concise way.\n",
    "\n",
    "## 2. Mathematical Operations\n",
    "They're great for quick mathematical calculations, especially when working with functions like `reduce()`.\n",
    "\n",
    "## 3. GUI Programming\n",
    "In GUI programming (e.g., with Tkinter), lambda functions are commonly used for event handling.\n",
    "\n",
    "## 4. Data Processing\n",
    "When working with pandas or other data processing libraries, lambda functions can be used for quick data transformations."
   ]
  },
  {
   "cell_type": "code",
   "execution_count": 10,
   "id": "7e25408e",
   "metadata": {},
   "outputs": [
    {
     "name": "stdout",
     "output_type": "stream",
     "text": [
      "Absolute values: [1, 2, 3, 4, 5, 6]\n",
      "Positive numbers: [1, 3, 5]\n",
      "Factorial of 5: 120\n",
      "2^3 = 8\n",
      "Sorted dictionary by value: {'pear': 1, 'banana': 2, 'apple': 5, 'orange': 8}\n",
      "Sums of nested lists: [6, 15, 24]\n",
      "Normalized names: ['John Smith', 'Jane Doe', 'Bob Johnson']\n"
     ]
    }
   ],
   "source": [
    "# 1. List Manipulation Examples\n",
    "numbers = [1, -2, 3, -4, 5, -6]\n",
    "# Get absolute values\n",
    "abs_numbers = list(map(lambda x: abs(x), numbers))\n",
    "print(\"Absolute values:\", abs_numbers)\n",
    "\n",
    "# Filter positive numbers\n",
    "positive_numbers = list(filter(lambda x: x > 0, numbers))\n",
    "print(\"Positive numbers:\", positive_numbers)\n",
    "\n",
    "# 2. Mathematical Operations\n",
    "from functools import reduce\n",
    "# Calculate factorial using reduce and lambda\n",
    "n = 5\n",
    "factorial = reduce(lambda x, y: x * y, range(1, n + 1))\n",
    "print(f\"Factorial of {n}:\", factorial)\n",
    "\n",
    "# Calculate power using lambda\n",
    "power = lambda base, exp: base ** exp\n",
    "print(\"2^3 =\", power(2, 3))\n",
    "\n",
    "# 3. Complex Data Processing\n",
    "# Sort dictionary by value\n",
    "data = {'apple': 5, 'banana': 2, 'orange': 8, 'pear': 1}\n",
    "sorted_data = dict(sorted(data.items(), key=lambda x: x[1]))\n",
    "print(\"Sorted dictionary by value:\", sorted_data)\n",
    "\n",
    "# Process nested structures\n",
    "nested_list = [[1, 2, 3], [4, 5, 6], [7, 8, 9]]\n",
    "# Sum each sublist\n",
    "sums = list(map(lambda x: sum(x), nested_list))\n",
    "print(\"Sums of nested lists:\", sums)\n",
    "\n",
    "# 4. String Processing\n",
    "names = ['john smith', 'JANE DOE', 'Bob Johnson']\n",
    "# Normalize names (capitalize first letters)\n",
    "normalized = list(map(lambda x: x.title(), names))\n",
    "print(\"Normalized names:\", normalized)"
   ]
  },
  {
   "cell_type": "markdown",
   "id": "37dee563",
   "metadata": {},
   "source": [
    "# Lambda Functions with Conditional Expressions\n",
    "\n",
    "Lambda functions can include conditional (ternary) expressions to make decisions. The syntax is:\n",
    "```python\n",
    "lambda arguments: expression_if_true if condition else expression_if_false\n",
    "```\n",
    "\n",
    "This is particularly useful when you need to make simple decisions within a lambda function. Here are some common patterns and use cases."
   ]
  },
  {
   "cell_type": "code",
   "execution_count": 11,
   "id": "f047a0c8",
   "metadata": {},
   "outputs": [
    {
     "name": "stdout",
     "output_type": "stream",
     "text": [
      "Score 75: Pass\n",
      "Score 45: Fail\n",
      "Grade for 95: A\n",
      "Grade for 85: B\n",
      "Grade for 65: F\n",
      "Larger of 10 and 20: 20\n",
      "Processed numbers: [0, 0, 0, 2, 4]\n",
      "Age status: [('John', 'Adult'), ('Jane', 'Minor'), ('Bob', 'Adult')]\n",
      "Reciprocal of 2: 0.5\n",
      "Reciprocal of 0: 0\n"
     ]
    }
   ],
   "source": [
    "# 1. Simple conditional lambda\n",
    "get_status = lambda x: \"Pass\" if x >= 60 else \"Fail\"\n",
    "print(\"Score 75:\", get_status(75))\n",
    "print(\"Score 45:\", get_status(45))\n",
    "\n",
    "# 2. Multiple conditions using nested ternary\n",
    "grade = lambda x: \"A\" if x >= 90 else (\"B\" if x >= 80 else (\"C\" if x >= 70 else \"F\"))\n",
    "print(\"Grade for 95:\", grade(95))\n",
    "print(\"Grade for 85:\", grade(85))\n",
    "print(\"Grade for 65:\", grade(65))\n",
    "\n",
    "# 3. Conditional lambda with multiple arguments\n",
    "compare = lambda x, y: x if x > y else y\n",
    "print(\"Larger of 10 and 20:\", compare(10, 20))\n",
    "\n",
    "# 4. List processing with conditional lambda\n",
    "numbers = [-4, -2, 0, 2, 4]\n",
    "# Replace negative numbers with zero\n",
    "processed = list(map(lambda x: 0 if x < 0 else x, numbers))\n",
    "print(\"Processed numbers:\", processed)\n",
    "\n",
    "# 5. Complex conditional processing\n",
    "data = [(\"John\", 25), (\"Jane\", 17), (\"Bob\", 32)]\n",
    "# Filter and format based on age\n",
    "status = list(map(lambda x: (x[0], \"Adult\") if x[1] >= 18 else (x[0], \"Minor\"), data))\n",
    "print(\"Age status:\", status)\n",
    "\n",
    "# 6. Mathematical conditional\n",
    "# Return reciprocal if number is non-zero, else return zero\n",
    "safe_reciprocal = lambda x: 1/x if x != 0 else 0\n",
    "print(\"Reciprocal of 2:\", safe_reciprocal(2))\n",
    "print(\"Reciprocal of 0:\", safe_reciprocal(0))"
   ]
  },
  {
   "cell_type": "markdown",
   "id": "f1b120d3",
   "metadata": {},
   "source": [
    "# Best Practices and Tips for Lambda Functions\n",
    "\n",
    "## When to Use Lambda Functions\n",
    "1. **Short Operations**: Use lambda functions for simple operations that can be expressed in a single expression.\n",
    "2. **Callback Functions**: They're great for callback functions in GUI programming or event handling.\n",
    "3. **Function Arguments**: Use them when passing functions as arguments to higher-order functions like `map()`, `filter()`, or `sorted()`.\n",
    "\n",
    "## When Not to Use Lambda Functions\n",
    "1. **Complex Logic**: If the operation requires multiple lines or complex logic, use a regular function.\n",
    "2. **Documentation Needs**: When you need to document the function's behavior with docstrings.\n",
    "3. **Reusable Code**: If you need to use the same function multiple times, define a regular function instead.\n",
    "\n",
    "## Tips for Writing Clean Lambda Functions\n",
    "1. Keep them simple and readable\n",
    "2. Avoid complex nested ternary operations\n",
    "3. Use meaningful variable names even in short lambda functions\n",
    "4. Consider readability vs conciseness\n",
    "\n",
    "## Common Pitfalls\n",
    "1. Trying to include multiple expressions (only one is allowed)\n",
    "2. Making them too complex and hard to read\n",
    "3. Using them when a regular function would be more appropriate\n",
    "4. Forgetting that they are limited to a single expression"
   ]
  }
 ],
 "metadata": {
  "kernelspec": {
   "display_name": "Python 3",
   "language": "python",
   "name": "python3"
  },
  "language_info": {
   "codemirror_mode": {
    "name": "ipython",
    "version": 3
   },
   "file_extension": ".py",
   "mimetype": "text/x-python",
   "name": "python",
   "nbconvert_exporter": "python",
   "version": "3.8.5"
  }
 },
 "nbformat": 4,
 "nbformat_minor": 5
}
